{
 "cells": [
  {
   "cell_type": "code",
   "execution_count": null,
   "metadata": {},
   "outputs": [],
   "source": [
    "from sklearn.metrics import f1_score, accuracy_score, classification_report\n",
    "from sklearn.ensemble import RandomForestClassifier"
   ]
  },
  {
   "cell_type": "code",
   "execution_count": null,
   "metadata": {},
   "outputs": [],
   "source": [
    "#data"
   ]
  },
  {
   "cell_type": "code",
   "execution_count": null,
   "metadata": {},
   "outputs": [],
   "source": [
    "#data cleaning"
   ]
  },
  {
   "cell_type": "code",
   "execution_count": null,
   "metadata": {},
   "outputs": [],
   "source": [
    "#data evaluation"
   ]
  },
  {
   "cell_type": "code",
   "execution_count": null,
   "metadata": {},
   "outputs": [],
   "source": [
    "#extract text from doc\n",
    "import PyMuPDF\n",
    "import docx2txt\n",
    "import openpyxl\n",
    "\n",
    "def extract_text(document_path):\n",
    "  # Identify document format and extract text using appropriate library\n",
    "  if document_path.endswith(\".pdf\"):\n",
    "    with open(document_path, 'rb') as pdf_file:\n",
    "      pdf_reader = PyMuPDF.PdfReader(pdf_file)\n",
    "      text = \"\"\n",
    "      for page in pdf_reader.pages:\n",
    "        text += page.extract_text()\n",
    "  elif document_path.endswith(\".docx\"):\n",
    "    text = docx2txt.process(document_path)\n",
    "  elif document_path.endswith(\".xlsx\"):\n",
    "    # Extract text from relevant sheets (logic can be improved)\n",
    "    workbook = openpyxl.load_workbook(document_path)\n",
    "    sheet = workbook.active  # Assuming the first sheet is relevant\n",
    "    text = \"\"\n",
    "    for row in sheet.iter_rows():\n",
    "      for cell in row:\n",
    "        text += str(cell.value) + \" \"  # Combine cell values with spaces\n",
    "  else:\n",
    "    raise ValueError(\"Unsupported document format!\")\n",
    "  return text.strip()\n",
    "\n"
   ]
  },
  {
   "cell_type": "code",
   "execution_count": null,
   "metadata": {},
   "outputs": [],
   "source": [
    "def extract_information(document_path):\n",
    "  # Extract text from the document\n",
    "  document_text = extract_text(document_path)\n",
    "\n",
    "  # ... rest of your information extraction logic using spaCy and matcher ...\n"
   ]
  },
  {
   "cell_type": "code",
   "execution_count": null,
   "metadata": {},
   "outputs": [],
   "source": [
    "# Define additional information types for NER\n",
    "info_types = [\"PERSON\", \"ORG\", \"LOCATION\"]\n",
    "\n",
    "def extract_information(document_path):\n",
    "  # ... (extract text from document) ...\n",
    "\n",
    "  doc = nlp(document_text)\n",
    "\n",
    "  # Extract entities using spaCy NER\n",
    "  extracted_info = {}\n",
    "  for ent in doc.ents:\n",
    "    if ent.label_ in info_types:\n",
    "      extracted_info[ent.label_] = []  # Create list to store multiple entities of same type\n",
    "      for token in ent:\n",
    "        extracted_info[ent.label_].append(token.text)  # Append individual tokens\n",
    "\n",
    "  # ... rest of your information extraction logic ...\n"
   ]
  },
  {
   "cell_type": "code",
   "execution_count": null,
   "metadata": {},
   "outputs": [],
   "source": [
    "import os\n",
    "\n",
    "# Information types considered for folder prediction (modify based on your needs)\n",
    "INFO_TYPES = [\"PERSON\", \"ORG\", \"LOCATION\", \"PURPOSE\"]\n",
    "\n",
    "# Mapping of information types to potential folders (customize based on your document types)\n",
    "FOLDER_MAPPINGS = {\n",
    "    \"PERSON\": [\"HR\", \"Legal\"],\n",
    "    \"ORG\": [\"Partners\", \"Clients\"],\n",
    "    \"LOCATION\": [\"Regional Reports\", \"Site Surveys\"],\n",
    "    \"PURPOSE\": [\"Marketing\", \"Finance\", \"Sales\"],\n",
    "}\n",
    "\n",
    "\n",
    "def predict_folder(extracted_info):\n",
    "  \"\"\"\n",
    "  Predicts the folder for a document based on extracted information.\n",
    "\n",
    "  Args:\n",
    "      extracted_info: A dictionary containing extracted information from the document.\n",
    "\n",
    "  Returns:\n",
    "      A string representing the predicted folder name.\n",
    "  \"\"\"\n",
    "\n",
    "  # Consider information types with highest priority (modify based on your needs)\n",
    "  priority_types = [\"PERSON\", \"ORG\"]\n",
    "\n",
    "  for info_type in priority_types:\n",
    "    if info_type in extracted_info and extracted_info[info_type]:\n",
    "      # Use the first entity found for the chosen information type\n",
    "      entity = extracted_info[info_type][0]\n",
    "      # Access potential folders based on the information type\n",
    "      potential_folders = FOLDER_MAPPINGS.get(info_type)\n",
    "      if potential_folders:\n",
    "        return potential_folders[0]  # Return the first potential folder\n",
    "\n",
    "  # If no priority information is found, use purpose or create a generic folder\n",
    "  if \"PURPOSE\" in extracted_info and extracted_info[\"PURPOSE\"]:\n",
    "    return extracted_info[\"PURPOSE\"][:15]  # Truncate purpose to 15 characters for folder name\n",
    "  else:\n",
    "    return \"Generic\"  # Default folder name\n",
    "\n",
    "def create_folder(folder_path):\n",
    "  \"\"\"\n",
    "  Creates a folder if it doesn't already exist.\n",
    "\n",
    "  Args:\n",
    "      folder_path: The path to the folder to be created.\n",
    "  \"\"\"\n",
    "  if not os.path.exists(folder_path):\n",
    "    os.makedirs(folder_path)\n",
    "\n",
    "def main():\n",
    "  # Example usage (replace with your information extraction logic)\n",
    "  extracted_info = {\"PERSON\": [\"John Doe\"], \"PURPOSE\": \"Marketing Report\"}\n",
    "  predicted_folder = predict_folder(extracted_info)\n",
    "  print(f\"Predicted folder: {predicted_folder}\")\n",
    "\n",
    "  # Create the folder if it doesn't exist\n",
    "  create_folder(predicted_folder)\n",
    "\n",
    "if __name__ == \"__main__\":\n",
    "  main()\n"
   ]
  },
  {
   "cell_type": "code",
   "execution_count": null,
   "metadata": {},
   "outputs": [],
   "source": [
    "#model training"
   ]
  },
  {
   "cell_type": "code",
   "execution_count": null,
   "metadata": {},
   "outputs": [],
   "source": [
    "#model evaluation"
   ]
  }
 ],
 "metadata": {
  "language_info": {
   "name": "python"
  }
 },
 "nbformat": 4,
 "nbformat_minor": 2
}
